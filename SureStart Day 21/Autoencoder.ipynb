{
  "nbformat": 4,
  "nbformat_minor": 0,
  "metadata": {
    "colab": {
      "name": "Autoencoder.ipynb",
      "provenance": [],
      "authorship_tag": "ABX9TyMontr8e22XVJUyUhgLGlhS",
      "include_colab_link": true
    },
    "kernelspec": {
      "name": "python3",
      "display_name": "Python 3"
    },
    "language_info": {
      "name": "python"
    },
    "accelerator": "GPU"
  },
  "cells": [
    {
      "cell_type": "markdown",
      "metadata": {
        "id": "view-in-github",
        "colab_type": "text"
      },
      "source": [
        "<a href=\"https://colab.research.google.com/github/Likhita-T/FutureMakers/blob/main/Autoencoder.ipynb\" target=\"_parent\"><img src=\"https://colab.research.google.com/assets/colab-badge.svg\" alt=\"Open In Colab\"/></a>"
      ]
    },
    {
      "cell_type": "code",
      "metadata": {
        "id": "KvvtC52_6IPe"
      },
      "source": [
        "import keras\n",
        "from keras import layers"
      ],
      "execution_count": 1,
      "outputs": []
    },
    {
      "cell_type": "code",
      "metadata": {
        "id": "eVCU6kQn63-V"
      },
      "source": [
        "# size of encoded representations\n",
        "encoding_dim = 32 "
      ],
      "execution_count": 2,
      "outputs": []
    },
    {
      "cell_type": "code",
      "metadata": {
        "id": "tv4NkG5v66v-"
      },
      "source": [
        "# input image\n",
        "input_img = keras.Input(shape=(784,))"
      ],
      "execution_count": 3,
      "outputs": []
    },
    {
      "cell_type": "code",
      "metadata": {
        "id": "TwbL0bRJ67mH"
      },
      "source": [
        "# encoded representation of the input\n",
        "encoded = layers.Dense(encoding_dim, activation='relu')(input_img)"
      ],
      "execution_count": 4,
      "outputs": []
    },
    {
      "cell_type": "code",
      "metadata": {
        "id": "eJ1kg4516_8c"
      },
      "source": [
        "# lossy reconstruction of the input\n",
        "decoded = layers.Dense(784, activation='sigmoid')(encoded)"
      ],
      "execution_count": 5,
      "outputs": []
    },
    {
      "cell_type": "code",
      "metadata": {
        "id": "iSXR_yAk7CGg"
      },
      "source": [
        "# maps an input to its reconstruction\n",
        "autoencoder = keras.Model(input_img, decoded)"
      ],
      "execution_count": 6,
      "outputs": []
    },
    {
      "cell_type": "code",
      "metadata": {
        "id": "YoLyoevf7E4J"
      },
      "source": [
        "# maps an input to its encoded representation\n",
        "encoder = keras.Model(input_img, encoded)"
      ],
      "execution_count": 7,
      "outputs": []
    },
    {
      "cell_type": "code",
      "metadata": {
        "id": "36qJPkmo7QWt"
      },
      "source": [
        "# encoded (32-dimensional) input\n",
        "encoded_input = keras.Input(shape=(encoding_dim,))"
      ],
      "execution_count": 8,
      "outputs": []
    },
    {
      "cell_type": "code",
      "metadata": {
        "id": "ZUK2XCeO7RqG"
      },
      "source": [
        "# last layer of the autoencoder model\n",
        "decoder_layer = autoencoder.layers[-1]"
      ],
      "execution_count": 9,
      "outputs": []
    },
    {
      "cell_type": "code",
      "metadata": {
        "id": "4PK3wJSG7Uo7"
      },
      "source": [
        "# decoder model\n",
        "decoder = keras.Model(encoded_input, decoder_layer(encoded_input))"
      ],
      "execution_count": 10,
      "outputs": []
    },
    {
      "cell_type": "code",
      "metadata": {
        "id": "Xo60YgW-8Fud"
      },
      "source": [
        "autoencoder.compile(optimizer='adam', loss='binary_crossentropy')"
      ],
      "execution_count": 11,
      "outputs": []
    },
    {
      "cell_type": "code",
      "metadata": {
        "colab": {
          "base_uri": "https://localhost:8080/"
        },
        "id": "xtwZHtDy8JC1",
        "outputId": "fc7c4b89-fb10-421d-81ab-989e5404201a"
      },
      "source": [
        "from keras.datasets import mnist\n",
        "import numpy as np\n",
        "(x_train, _), (x_test, _) = mnist.load_data()"
      ],
      "execution_count": 12,
      "outputs": [
        {
          "output_type": "stream",
          "text": [
            "Downloading data from https://storage.googleapis.com/tensorflow/tf-keras-datasets/mnist.npz\n",
            "11493376/11490434 [==============================] - 0s 0us/step\n",
            "11501568/11490434 [==============================] - 0s 0us/step\n"
          ],
          "name": "stdout"
        }
      ]
    },
    {
      "cell_type": "code",
      "metadata": {
        "colab": {
          "base_uri": "https://localhost:8080/"
        },
        "id": "VHJb-OTl8Kgp",
        "outputId": "1c887753-f6a1-4e7a-e109-8cf374c1bc76"
      },
      "source": [
        "x_train = x_train.astype('float32') / 255.\n",
        "x_test = x_test.astype('float32') / 255.\n",
        "x_train = x_train.reshape((len(x_train), np.prod(x_train.shape[1:])))\n",
        "x_test = x_test.reshape((len(x_test), np.prod(x_test.shape[1:])))\n",
        "print(x_train.shape)\n",
        "print(x_test.shape)"
      ],
      "execution_count": 13,
      "outputs": [
        {
          "output_type": "stream",
          "text": [
            "(60000, 784)\n",
            "(10000, 784)\n"
          ],
          "name": "stdout"
        }
      ]
    },
    {
      "cell_type": "code",
      "metadata": {
        "colab": {
          "base_uri": "https://localhost:8080/"
        },
        "id": "HFL9hSWt8OR6",
        "outputId": "89ae9427-cefb-4278-ef34-28ef9e6e3553"
      },
      "source": [
        "autoencoder.fit(x_train, x_train,\n",
        "                epochs=50,\n",
        "                batch_size=256,\n",
        "                shuffle=True,\n",
        "                validation_data=(x_test, x_test))"
      ],
      "execution_count": 14,
      "outputs": [
        {
          "output_type": "stream",
          "text": [
            "Epoch 1/50\n",
            "235/235 [==============================] - 16s 11ms/step - loss: 0.3882 - val_loss: 0.1920\n",
            "Epoch 2/50\n",
            "235/235 [==============================] - 2s 9ms/step - loss: 0.1807 - val_loss: 0.1533\n",
            "Epoch 3/50\n",
            "235/235 [==============================] - 2s 9ms/step - loss: 0.1494 - val_loss: 0.1344\n",
            "Epoch 4/50\n",
            "235/235 [==============================] - 2s 9ms/step - loss: 0.1329 - val_loss: 0.1233\n",
            "Epoch 5/50\n",
            "235/235 [==============================] - 2s 9ms/step - loss: 0.1225 - val_loss: 0.1152\n",
            "Epoch 6/50\n",
            "235/235 [==============================] - 2s 10ms/step - loss: 0.1150 - val_loss: 0.1096\n",
            "Epoch 7/50\n",
            "235/235 [==============================] - 2s 9ms/step - loss: 0.1101 - val_loss: 0.1056\n",
            "Epoch 8/50\n",
            "235/235 [==============================] - 2s 10ms/step - loss: 0.1059 - val_loss: 0.1022\n",
            "Epoch 9/50\n",
            "235/235 [==============================] - 2s 10ms/step - loss: 0.1029 - val_loss: 0.0996\n",
            "Epoch 10/50\n",
            "235/235 [==============================] - 2s 9ms/step - loss: 0.1003 - val_loss: 0.0975\n",
            "Epoch 11/50\n",
            "235/235 [==============================] - 2s 9ms/step - loss: 0.0986 - val_loss: 0.0962\n",
            "Epoch 12/50\n",
            "235/235 [==============================] - 2s 9ms/step - loss: 0.0971 - val_loss: 0.0952\n",
            "Epoch 13/50\n",
            "235/235 [==============================] - 2s 10ms/step - loss: 0.0965 - val_loss: 0.0947\n",
            "Epoch 14/50\n",
            "235/235 [==============================] - 2s 9ms/step - loss: 0.0955 - val_loss: 0.0933\n",
            "Epoch 15/50\n",
            "235/235 [==============================] - 2s 10ms/step - loss: 0.0943 - val_loss: 0.0929\n",
            "Epoch 16/50\n",
            "235/235 [==============================] - 2s 10ms/step - loss: 0.0938 - val_loss: 0.0926\n",
            "Epoch 17/50\n",
            "235/235 [==============================] - 2s 10ms/step - loss: 0.0941 - val_loss: 0.0925\n",
            "Epoch 18/50\n",
            "235/235 [==============================] - 2s 9ms/step - loss: 0.0937 - val_loss: 0.0924\n",
            "Epoch 19/50\n",
            "235/235 [==============================] - 2s 9ms/step - loss: 0.0935 - val_loss: 0.0923\n",
            "Epoch 20/50\n",
            "235/235 [==============================] - 2s 10ms/step - loss: 0.0936 - val_loss: 0.0923\n",
            "Epoch 21/50\n",
            "235/235 [==============================] - 2s 10ms/step - loss: 0.0935 - val_loss: 0.0921\n",
            "Epoch 22/50\n",
            "235/235 [==============================] - 2s 9ms/step - loss: 0.0933 - val_loss: 0.0921\n",
            "Epoch 23/50\n",
            "235/235 [==============================] - 2s 10ms/step - loss: 0.0931 - val_loss: 0.0920\n",
            "Epoch 24/50\n",
            "235/235 [==============================] - 2s 10ms/step - loss: 0.0933 - val_loss: 0.0919\n",
            "Epoch 25/50\n",
            "235/235 [==============================] - 2s 10ms/step - loss: 0.0931 - val_loss: 0.0919\n",
            "Epoch 26/50\n",
            "235/235 [==============================] - 2s 10ms/step - loss: 0.0932 - val_loss: 0.0918\n",
            "Epoch 27/50\n",
            "235/235 [==============================] - 2s 9ms/step - loss: 0.0930 - val_loss: 0.0918\n",
            "Epoch 28/50\n",
            "235/235 [==============================] - 2s 10ms/step - loss: 0.0929 - val_loss: 0.0918\n",
            "Epoch 29/50\n",
            "235/235 [==============================] - 2s 10ms/step - loss: 0.0931 - val_loss: 0.0918\n",
            "Epoch 30/50\n",
            "235/235 [==============================] - 2s 10ms/step - loss: 0.0931 - val_loss: 0.0917\n",
            "Epoch 31/50\n",
            "235/235 [==============================] - 2s 10ms/step - loss: 0.0927 - val_loss: 0.0917\n",
            "Epoch 32/50\n",
            "235/235 [==============================] - 2s 10ms/step - loss: 0.0926 - val_loss: 0.0917\n",
            "Epoch 33/50\n",
            "235/235 [==============================] - 2s 10ms/step - loss: 0.0928 - val_loss: 0.0917\n",
            "Epoch 34/50\n",
            "235/235 [==============================] - 2s 10ms/step - loss: 0.0926 - val_loss: 0.0916\n",
            "Epoch 35/50\n",
            "235/235 [==============================] - 2s 10ms/step - loss: 0.0928 - val_loss: 0.0916\n",
            "Epoch 36/50\n",
            "235/235 [==============================] - 2s 10ms/step - loss: 0.0928 - val_loss: 0.0915\n",
            "Epoch 37/50\n",
            "235/235 [==============================] - 2s 10ms/step - loss: 0.0927 - val_loss: 0.0916\n",
            "Epoch 38/50\n",
            "235/235 [==============================] - 2s 10ms/step - loss: 0.0926 - val_loss: 0.0916\n",
            "Epoch 39/50\n",
            "235/235 [==============================] - 2s 10ms/step - loss: 0.0926 - val_loss: 0.0915\n",
            "Epoch 40/50\n",
            "235/235 [==============================] - 2s 10ms/step - loss: 0.0927 - val_loss: 0.0916\n",
            "Epoch 41/50\n",
            "235/235 [==============================] - 2s 10ms/step - loss: 0.0925 - val_loss: 0.0916\n",
            "Epoch 42/50\n",
            "235/235 [==============================] - 2s 10ms/step - loss: 0.0927 - val_loss: 0.0916\n",
            "Epoch 43/50\n",
            "235/235 [==============================] - 2s 10ms/step - loss: 0.0927 - val_loss: 0.0916\n",
            "Epoch 44/50\n",
            "235/235 [==============================] - 2s 10ms/step - loss: 0.0926 - val_loss: 0.0915\n",
            "Epoch 45/50\n",
            "235/235 [==============================] - 2s 10ms/step - loss: 0.0926 - val_loss: 0.0915\n",
            "Epoch 46/50\n",
            "235/235 [==============================] - 2s 10ms/step - loss: 0.0927 - val_loss: 0.0915\n",
            "Epoch 47/50\n",
            "235/235 [==============================] - 2s 9ms/step - loss: 0.0925 - val_loss: 0.0915\n",
            "Epoch 48/50\n",
            "235/235 [==============================] - 2s 10ms/step - loss: 0.0925 - val_loss: 0.0915\n",
            "Epoch 49/50\n",
            "235/235 [==============================] - 2s 9ms/step - loss: 0.0925 - val_loss: 0.0915\n",
            "Epoch 50/50\n",
            "235/235 [==============================] - 2s 10ms/step - loss: 0.0925 - val_loss: 0.0914\n"
          ],
          "name": "stdout"
        },
        {
          "output_type": "execute_result",
          "data": {
            "text/plain": [
              "<keras.callbacks.History at 0x7fa3651ea350>"
            ]
          },
          "metadata": {
            "tags": []
          },
          "execution_count": 14
        }
      ]
    },
    {
      "cell_type": "code",
      "metadata": {
        "id": "m6SKtwGY8O5K"
      },
      "source": [
        "# Encode and decode some digits\n",
        "encoded_imgs = encoder.predict(x_test)\n",
        "decoded_imgs = decoder.predict(encoded_imgs)"
      ],
      "execution_count": 16,
      "outputs": []
    },
    {
      "cell_type": "code",
      "metadata": {
        "id": "0dO0NAKL8YFr"
      },
      "source": [
        "import matplotlib.pyplot as plt"
      ],
      "execution_count": 18,
      "outputs": []
    },
    {
      "cell_type": "code",
      "metadata": {
        "colab": {
          "base_uri": "https://localhost:8080/",
          "height": 248
        },
        "id": "3ZLWARnb8ach",
        "outputId": "301da357-75ec-474c-e404-1f4c7b2becd6"
      },
      "source": [
        "n = 10   \n",
        "plt.figure(figsize=(20, 4))\n",
        "for i in range(n):\n",
        "    ax = plt.subplot(2, n, i + 1)\n",
        "    plt.imshow(x_test[i].reshape(28, 28))\n",
        "    plt.gray()\n",
        "    ax.get_xaxis().set_visible(False)\n",
        "    ax.get_yaxis().set_visible(False)\n",
        "\n",
        "    ax = plt.subplot(2, n, i + 1 + n)\n",
        "    plt.imshow(decoded_imgs[i].reshape(28, 28))\n",
        "    plt.gray()\n",
        "    ax.get_xaxis().set_visible(False)\n",
        "    ax.get_yaxis().set_visible(False)\n",
        "plt.show()"
      ],
      "execution_count": 19,
      "outputs": [
        {
          "output_type": "display_data",
          "data": {
            "image/png": "[encoded data removed]",
            "text/plain": [
              "<Figure size 1440x288 with 20 Axes>"
            ]
          },
          "metadata": {
            "tags": [],
            "needs_background": "light"
          }
        }
      ]
    },
    {
      "cell_type": "code",
      "metadata": {
        "id": "g1Wm1J3Q8dAW"
      },
      "source": [
        "# Adding a sparsity constraint \n",
        "from keras import regularizers\n",
        "\n",
        "encoding_dim = 32\n",
        "\n",
        "input_img = keras.Input(shape=(784,))\n",
        "encoded = layers.Dense(encoding_dim, activation='relu',\n",
        "                activity_regularizer=regularizers.l1(10e-5))(input_img)\n",
        "decoded = layers.Dense(784, activation='sigmoid')(encoded)\n",
        "\n",
        "autoencoder = keras.Model(input_img, decoded)"
      ],
      "execution_count": 20,
      "outputs": []
    },
    {
      "cell_type": "code",
      "metadata": {
        "id": "Xg7F9Nvj8iJw"
      },
      "source": [
        "# Deep autoencoder\n",
        "\n",
        "input_img = keras.Input(shape=(784,))\n",
        "encoded = layers.Dense(128, activation='relu')(input_img)\n",
        "encoded = layers.Dense(64, activation='relu')(encoded)\n",
        "encoded = layers.Dense(32, activation='relu')(encoded)\n",
        "\n",
        "decoded = layers.Dense(64, activation='relu')(encoded)\n",
        "decoded = layers.Dense(128, activation='relu')(decoded)\n",
        "decoded = layers.Dense(784, activation='sigmoid')(decoded)"
      ],
      "execution_count": 21,
      "outputs": []
    },
    {
      "cell_type": "code",
      "metadata": {
        "colab": {
          "base_uri": "https://localhost:8080/"
        },
        "id": "Zjva-uMx8rFu",
        "outputId": "a92e9889-ed64-411a-beff-7c6b6d450441"
      },
      "source": [
        "autoencoder = keras.Model(input_img, decoded)\n",
        "autoencoder.compile(optimizer='adam', loss='binary_crossentropy')\n",
        "\n",
        "autoencoder.fit(x_train, x_train,\n",
        "                epochs=100,\n",
        "                batch_size=256,\n",
        "                shuffle=True,\n",
        "                validation_data=(x_test, x_test))"
      ],
      "execution_count": null,
      "outputs": [
        {
          "output_type": "stream",
          "text": [
            "Epoch 1/100\n",
            "235/235 [==============================] - 4s 15ms/step - loss: 0.3370 - val_loss: 0.1666\n",
            "Epoch 2/100\n",
            "235/235 [==============================] - 3s 14ms/step - loss: 0.1577 - val_loss: 0.1360\n",
            "Epoch 3/100\n",
            "235/235 [==============================] - 3s 15ms/step - loss: 0.1335 - val_loss: 0.1234\n",
            "Epoch 4/100\n",
            "235/235 [==============================] - 3s 14ms/step - loss: 0.1227 - val_loss: 0.1151\n",
            "Epoch 5/100\n",
            "235/235 [==============================] - 3s 14ms/step - loss: 0.1155 - val_loss: 0.1104\n",
            "Epoch 6/100\n",
            "235/235 [==============================] - 3s 15ms/step - loss: 0.1108 - val_loss: 0.1069\n",
            "Epoch 7/100\n",
            "235/235 [==============================] - 3s 15ms/step - loss: 0.1072 - val_loss: 0.1039\n",
            "Epoch 8/100\n",
            "235/235 [==============================] - 3s 15ms/step - loss: 0.1046 - val_loss: 0.1022\n",
            "Epoch 9/100\n",
            "235/235 [==============================] - 3s 15ms/step - loss: 0.1027 - val_loss: 0.1005\n",
            "Epoch 10/100\n",
            "235/235 [==============================] - 3s 15ms/step - loss: 0.1012 - val_loss: 0.0990\n",
            "Epoch 11/100\n",
            "235/235 [==============================] - 3s 15ms/step - loss: 0.1000 - val_loss: 0.0979\n",
            "Epoch 12/100\n",
            "235/235 [==============================] - 3s 15ms/step - loss: 0.0985 - val_loss: 0.0968\n",
            "Epoch 13/100\n",
            "235/235 [==============================] - 3s 15ms/step - loss: 0.0974 - val_loss: 0.0959\n",
            "Epoch 14/100\n",
            "235/235 [==============================] - 3s 15ms/step - loss: 0.0966 - val_loss: 0.0948\n",
            "Epoch 15/100\n",
            "235/235 [==============================] - 3s 15ms/step - loss: 0.0956 - val_loss: 0.0939\n",
            "Epoch 16/100\n",
            "235/235 [==============================] - 4s 15ms/step - loss: 0.0947 - val_loss: 0.0930\n",
            "Epoch 17/100\n",
            "235/235 [==============================] - 3s 15ms/step - loss: 0.0940 - val_loss: 0.0924\n",
            "Epoch 18/100\n",
            "235/235 [==============================] - 4s 15ms/step - loss: 0.0932 - val_loss: 0.0918\n",
            "Epoch 19/100\n",
            "235/235 [==============================] - 3s 15ms/step - loss: 0.0926 - val_loss: 0.0913\n",
            "Epoch 20/100\n",
            "235/235 [==============================] - 3s 15ms/step - loss: 0.0919 - val_loss: 0.0906\n",
            "Epoch 21/100\n",
            "235/235 [==============================] - 3s 15ms/step - loss: 0.0911 - val_loss: 0.0901\n",
            "Epoch 22/100\n",
            "235/235 [==============================] - 3s 15ms/step - loss: 0.0905 - val_loss: 0.0896\n",
            "Epoch 23/100\n",
            "235/235 [==============================] - 3s 15ms/step - loss: 0.0902 - val_loss: 0.0889\n",
            "Epoch 24/100\n",
            "235/235 [==============================] - 3s 15ms/step - loss: 0.0895 - val_loss: 0.0889\n",
            "Epoch 25/100\n",
            "235/235 [==============================] - 3s 15ms/step - loss: 0.0892 - val_loss: 0.0880\n",
            "Epoch 26/100\n",
            "235/235 [==============================] - 3s 15ms/step - loss: 0.0887 - val_loss: 0.0880\n",
            "Epoch 27/100\n",
            "235/235 [==============================] - 3s 15ms/step - loss: 0.0883 - val_loss: 0.0876\n",
            "Epoch 28/100\n",
            "235/235 [==============================] - 3s 15ms/step - loss: 0.0879 - val_loss: 0.0871\n",
            "Epoch 29/100\n",
            "235/235 [==============================] - 4s 15ms/step - loss: 0.0881 - val_loss: 0.0872\n",
            "Epoch 30/100\n",
            "235/235 [==============================] - 3s 15ms/step - loss: 0.0874 - val_loss: 0.0870\n",
            "Epoch 31/100\n",
            "235/235 [==============================] - 3s 15ms/step - loss: 0.0871 - val_loss: 0.0865\n",
            "Epoch 32/100\n",
            "235/235 [==============================] - 3s 15ms/step - loss: 0.0869 - val_loss: 0.0859\n",
            "Epoch 33/100\n",
            "235/235 [==============================] - 4s 15ms/step - loss: 0.0866 - val_loss: 0.0856\n",
            "Epoch 34/100\n",
            "235/235 [==============================] - 3s 15ms/step - loss: 0.0862 - val_loss: 0.0857\n",
            "Epoch 35/100\n",
            "235/235 [==============================] - 4s 15ms/step - loss: 0.0861 - val_loss: 0.0850\n",
            "Epoch 36/100\n",
            "235/235 [==============================] - 3s 15ms/step - loss: 0.0854 - val_loss: 0.0851\n",
            "Epoch 37/100\n",
            "235/235 [==============================] - 3s 15ms/step - loss: 0.0856 - val_loss: 0.0847\n",
            "Epoch 38/100\n",
            "235/235 [==============================] - 4s 15ms/step - loss: 0.0853 - val_loss: 0.0850\n",
            "Epoch 39/100\n",
            "235/235 [==============================] - 4s 15ms/step - loss: 0.0850 - val_loss: 0.0844\n",
            "Epoch 40/100\n",
            "235/235 [==============================] - 3s 15ms/step - loss: 0.0850 - val_loss: 0.0844\n",
            "Epoch 41/100\n",
            "235/235 [==============================] - 3s 15ms/step - loss: 0.0845 - val_loss: 0.0840\n",
            "Epoch 42/100\n",
            "235/235 [==============================] - 3s 15ms/step - loss: 0.0842 - val_loss: 0.0841\n",
            "Epoch 43/100\n",
            "235/235 [==============================] - 3s 15ms/step - loss: 0.0842 - val_loss: 0.0837\n",
            "Epoch 44/100\n",
            "235/235 [==============================] - 3s 15ms/step - loss: 0.0840 - val_loss: 0.0836\n",
            "Epoch 45/100\n",
            "235/235 [==============================] - 3s 15ms/step - loss: 0.0839 - val_loss: 0.0837\n",
            "Epoch 46/100\n",
            "235/235 [==============================] - 4s 15ms/step - loss: 0.0837 - val_loss: 0.0834\n",
            "Epoch 47/100\n",
            "235/235 [==============================] - 4s 15ms/step - loss: 0.0835 - val_loss: 0.0833\n",
            "Epoch 48/100\n",
            "235/235 [==============================] - 3s 15ms/step - loss: 0.0836 - val_loss: 0.0830\n",
            "Epoch 49/100\n",
            "235/235 [==============================] - 4s 15ms/step - loss: 0.0836 - val_loss: 0.0832\n",
            "Epoch 50/100\n",
            "235/235 [==============================] - 3s 15ms/step - loss: 0.0832 - val_loss: 0.0829\n",
            "Epoch 51/100\n",
            "235/235 [==============================] - 3s 15ms/step - loss: 0.0832 - val_loss: 0.0828\n",
            "Epoch 52/100\n",
            "235/235 [==============================] - 3s 15ms/step - loss: 0.0832 - val_loss: 0.0830\n",
            "Epoch 53/100\n",
            "235/235 [==============================] - 3s 15ms/step - loss: 0.0832 - val_loss: 0.0826\n",
            "Epoch 54/100\n",
            "235/235 [==============================] - 3s 15ms/step - loss: 0.0828 - val_loss: 0.0826\n",
            "Epoch 55/100\n",
            "235/235 [==============================] - 3s 15ms/step - loss: 0.0828 - val_loss: 0.0824\n",
            "Epoch 56/100\n",
            "235/235 [==============================] - 3s 15ms/step - loss: 0.0829 - val_loss: 0.0826\n",
            "Epoch 57/100\n",
            "235/235 [==============================] - 3s 15ms/step - loss: 0.0826 - val_loss: 0.0823\n",
            "Epoch 58/100\n",
            "235/235 [==============================] - 3s 15ms/step - loss: 0.0829 - val_loss: 0.0824\n",
            "Epoch 59/100\n",
            "235/235 [==============================] - 3s 15ms/step - loss: 0.0826 - val_loss: 0.0824\n",
            "Epoch 60/100\n",
            "235/235 [==============================] - 4s 15ms/step - loss: 0.0825 - val_loss: 0.0822\n",
            "Epoch 61/100\n",
            "235/235 [==============================] - 4s 15ms/step - loss: 0.0824 - val_loss: 0.0822\n",
            "Epoch 62/100\n",
            "235/235 [==============================] - 4s 15ms/step - loss: 0.0824 - val_loss: 0.0820\n",
            "Epoch 63/100\n",
            "235/235 [==============================] - 4s 15ms/step - loss: 0.0825 - val_loss: 0.0824\n",
            "Epoch 64/100\n",
            "235/235 [==============================] - 4s 15ms/step - loss: 0.0823 - val_loss: 0.0819\n",
            "Epoch 65/100\n",
            "235/235 [==============================] - 3s 15ms/step - loss: 0.0823 - val_loss: 0.0820\n",
            "Epoch 66/100\n",
            "235/235 [==============================] - 4s 15ms/step - loss: 0.0822 - val_loss: 0.0821\n",
            "Epoch 67/100\n",
            "235/235 [==============================] - 4s 15ms/step - loss: 0.0822 - val_loss: 0.0818\n",
            "Epoch 68/100\n",
            "235/235 [==============================] - 3s 15ms/step - loss: 0.0821 - val_loss: 0.0818\n",
            "Epoch 69/100\n",
            " 96/235 [===========>..................] - ETA: 1s - loss: 0.0818"
          ],
          "name": "stdout"
        }
      ]
    },
    {
      "cell_type": "code",
      "metadata": {
        "id": "lNCiOHZU8srq"
      },
      "source": [
        "# Convolutional autoencoder\n",
        "import keras\n",
        "from keras import layers\n",
        "\n",
        "input_img = keras.Input(shape=(28, 28, 1))\n",
        "\n",
        "x = layers.Conv2D(16, (3, 3), activation='relu', padding='same')(input_img)\n",
        "x = layers.MaxPooling2D((2, 2), padding='same')(x)\n",
        "x = layers.Conv2D(8, (3, 3), activation='relu', padding='same')(x)\n",
        "x = layers.MaxPooling2D((2, 2), padding='same')(x)\n",
        "x = layers.Conv2D(8, (3, 3), activation='relu', padding='same')(x)\n",
        "encoded = layers.MaxPooling2D((2, 2), padding='same')(x)\n",
        "\n",
        "x = layers.Conv2D(8, (3, 3), activation='relu', padding='same')(encoded)\n",
        "x = layers.UpSampling2D((2, 2))(x)\n",
        "x = layers.Conv2D(8, (3, 3), activation='relu', padding='same')(x)\n",
        "x = layers.UpSampling2D((2, 2))(x)\n",
        "x = layers.Conv2D(16, (3, 3), activation='relu')(x)\n",
        "x = layers.UpSampling2D((2, 2))(x)\n",
        "decoded = layers.Conv2D(1, (3, 3), activation='sigmoid', padding='same')(x)\n",
        "\n",
        "autoencoder = keras.Model(input_img, decoded)\n",
        "autoencoder.compile(optimizer='adam', loss='binary_crossentropy')"
      ],
      "execution_count": 17,
      "outputs": []
    },
    {
      "cell_type": "code",
      "metadata": {
        "id": "pIHzTjm781bX"
      },
      "source": [
        "from keras.datasets import mnist\n",
        "import numpy as np\n",
        "\n",
        "(x_train, _), (x_test, _) = mnist.load_data()\n",
        "\n",
        "x_train = x_train.astype('float32') / 255.\n",
        "x_test = x_test.astype('float32') / 255.\n",
        "x_train = np.reshape(x_train, (len(x_train), 28, 28, 1))\n",
        "x_test = np.reshape(x_test, (len(x_test), 28, 28, 1))"
      ],
      "execution_count": null,
      "outputs": []
    },
    {
      "cell_type": "code",
      "metadata": {
        "id": "tMzZX9P5815J"
      },
      "source": [
        "tensorboard --logdir=/tmp/autoencoder\n"
      ],
      "execution_count": null,
      "outputs": []
    },
    {
      "cell_type": "code",
      "metadata": {
        "id": "aEkcsUeH823w"
      },
      "source": [
        "from keras.callbacks import TensorBoard\n",
        "\n",
        "autoencoder.fit(x_train, x_train,\n",
        "                epochs=50,\n",
        "                batch_size=128,\n",
        "                shuffle=True,\n",
        "                validation_data=(x_test, x_test),\n",
        "                callbacks=[TensorBoard(log_dir='/tmp/autoencoder')])"
      ],
      "execution_count": null,
      "outputs": []
    },
    {
      "cell_type": "code",
      "metadata": {
        "id": "fb6BcCJg849N"
      },
      "source": [
        "decoded_imgs = autoencoder.predict(x_test)\n",
        "\n",
        "n = 10\n",
        "plt.figure(figsize=(20, 4))\n",
        "for i in range(1, n + 1):\n",
        "    # Display original\n",
        "    ax = plt.subplot(2, n, i)\n",
        "    plt.imshow(x_test[i].reshape(28, 28))\n",
        "    plt.gray()\n",
        "    ax.get_xaxis().set_visible(False)\n",
        "    ax.get_yaxis().set_visible(False)\n",
        "\n",
        "    # Display reconstruction\n",
        "    ax = plt.subplot(2, n, i + n)\n",
        "    plt.imshow(decoded_imgs[i].reshape(28, 28))\n",
        "    plt.gray()\n",
        "    ax.get_xaxis().set_visible(False)\n",
        "    ax.get_yaxis().set_visible(False)\n",
        "plt.show()"
      ],
      "execution_count": null,
      "outputs": []
    },
    {
      "cell_type": "code",
      "metadata": {
        "id": "FFkK2YgD86S1"
      },
      "source": [
        "encoder = keras.Model(input_img, encoded)\n",
        "encoded_imgs = encoder.predict(x_test)\n",
        "\n",
        "n = 10\n",
        "plt.figure(figsize=(20, 8))\n",
        "for i in range(1, n + 1):\n",
        "    ax = plt.subplot(1, n, i)\n",
        "    plt.imshow(encoded_imgs[i].reshape((4, 4 * 8)).T)\n",
        "    plt.gray()\n",
        "    ax.get_xaxis().set_visible(False)\n",
        "    ax.get_yaxis().set_visible(False)\n",
        "plt.show()"
      ],
      "execution_count": null,
      "outputs": []
    },
    {
      "cell_type": "code",
      "metadata": {
        "id": "ZmoanG1c86Xc"
      },
      "source": [
        "from keras.datasets import mnist\n",
        "import numpy as np\n",
        "\n",
        "(x_train, _), (x_test, _) = mnist.load_data()\n",
        "\n",
        "x_train = x_train.astype('float32') / 255.\n",
        "x_test = x_test.astype('float32') / 255.\n",
        "x_train = np.reshape(x_train, (len(x_train), 28, 28, 1))\n",
        "x_test = np.reshape(x_test, (len(x_test), 28, 28, 1))\n",
        "\n",
        "noise_factor = 0.5\n",
        "x_train_noisy = x_train + noise_factor * np.random.normal(loc=0.0, scale=1.0, size=x_train.shape) \n",
        "x_test_noisy = x_test + noise_factor * np.random.normal(loc=0.0, scale=1.0, size=x_test.shape) \n",
        "\n",
        "x_train_noisy = np.clip(x_train_noisy, 0., 1.)\n",
        "x_test_noisy = np.clip(x_test_noisy, 0., 1.)"
      ],
      "execution_count": null,
      "outputs": []
    },
    {
      "cell_type": "code",
      "metadata": {
        "id": "zXeiO-BJ88rE"
      },
      "source": [
        "n = 10\n",
        "plt.figure(figsize=(20, 2))\n",
        "for i in range(1, n + 1):\n",
        "    ax = plt.subplot(1, n, i)\n",
        "    plt.imshow(x_test_noisy[i].reshape(28, 28))\n",
        "    plt.gray()\n",
        "    ax.get_xaxis().set_visible(False)\n",
        "    ax.get_yaxis().set_visible(False)\n",
        "plt.show()"
      ],
      "execution_count": null,
      "outputs": []
    },
    {
      "cell_type": "code",
      "metadata": {
        "id": "t2uBu3UL8-za"
      },
      "source": [
        "input_img = keras.Input(shape=(28, 28, 1))\n",
        "\n",
        "x = layers.Conv2D(32, (3, 3), activation='relu', padding='same')(input_img)\n",
        "x = layers.MaxPooling2D((2, 2), padding='same')(x)\n",
        "x = layers.Conv2D(32, (3, 3), activation='relu', padding='same')(x)\n",
        "encoded = layers.MaxPooling2D((2, 2), padding='same')(x)\n",
        "\n",
        "# At this point the representation is (7, 7, 32)\n",
        "\n",
        "x = layers.Conv2D(32, (3, 3), activation='relu', padding='same')(encoded)\n",
        "x = layers.UpSampling2D((2, 2))(x)\n",
        "x = layers.Conv2D(32, (3, 3), activation='relu', padding='same')(x)\n",
        "x = layers.UpSampling2D((2, 2))(x)\n",
        "decoded = layers.Conv2D(1, (3, 3), activation='sigmoid', padding='same')(x)\n",
        "\n",
        "autoencoder = keras.Model(input_img, decoded)\n",
        "autoencoder.compile(optimizer='adam', loss='binary_crossentropy')"
      ],
      "execution_count": null,
      "outputs": []
    },
    {
      "cell_type": "code",
      "metadata": {
        "id": "vHkYsfGt8_8U"
      },
      "source": [
        "autoencoder.fit(x_train_noisy, x_train,\n",
        "                epochs=100,\n",
        "                batch_size=128,\n",
        "                shuffle=True,\n",
        "                validation_data=(x_test_noisy, x_test),\n",
        "                callbacks=[TensorBoard(log_dir='/tmp/tb', histogram_freq=0, write_graph=False)])"
      ],
      "execution_count": null,
      "outputs": []
    }
  ]
}
